{
 "cells": [
  {
   "cell_type": "code",
   "execution_count": 1,
   "metadata": {},
   "outputs": [],
   "source": [
    "import cv2 as cv\n",
    "import numpy as np \t \n",
    "from matplotlib import pyplot as plt \n",
    "from pathlib import Path"
   ]
  },
  {
   "cell_type": "code",
   "execution_count": 2,
   "metadata": {},
   "outputs": [],
   "source": [
    "def region_of_interest(img, vertices):\n",
    "    mask = np.zeros_like(img)\n",
    "    # channel_count = img.shape[2]\n",
    "    match_mask_color = (255)\n",
    "    cv.fillPoly(mask, vertices, match_mask_color)\n",
    "    masked_image = cv.bitwise_and(img, mask)\n",
    "    return masked_image"
   ]
  },
  {
   "cell_type": "code",
   "execution_count": 3,
   "metadata": {},
   "outputs": [],
   "source": [
    "def draw_lines(img, lines):\n",
    "    img = np.copy(img)\n",
    "    blank_image = np.zeros((img.shape[0], img.shape[1], 3), np.uint8)\n",
    "\n",
    "    for line in lines:\n",
    "        for x1, y1, x2, y2 in line:\n",
    "            cv.line(blank_image, (x1, y1), (x2, y2), (0, 255, 0), 2)\n",
    "\n",
    "    img = cv.addWeighted(img, 0.8, blank_image, 1, 0.0)\n",
    "    return img"
   ]
  },
  {
   "cell_type": "code",
   "execution_count": 4,
   "metadata": {},
   "outputs": [],
   "source": [
    "def lanesDetection(img):\n",
    "\n",
    "    # print(img.shape)\n",
    "    height = img.shape[0]\n",
    "    width = img.shape[1]\n",
    "\n",
    "    region_of_interest_vertices = [\n",
    "        (200, height), (width/2, height/1.37), (width-300, height)\n",
    "    ]\n",
    "    gray_img = cv.cvtColor(img, cv.COLOR_RGB2GRAY)\n",
    "    edge = cv.Canny(gray_img, 50, 100, apertureSize=3)\n",
    "    cropped_image = region_of_interest(\n",
    "        edge, np.array([region_of_interest_vertices], np.int32))\n",
    "\n",
    "    lines = cv.HoughLinesP(cropped_image, rho=2, theta=np.pi/180,\n",
    "                           threshold=50, lines=np.array([]), minLineLength=10, maxLineGap=30)\n",
    "    image_with_lines = draw_lines(img, lines)\n",
    "    # plt.imshow(image_with_lines)\n",
    "    # plt.show()\n",
    "    return image_with_lines"
   ]
  },
  {
   "cell_type": "code",
   "execution_count": 5,
   "metadata": {},
   "outputs": [],
   "source": [
    "def videoLanes(video_path: str | Path):\n",
    "    cap = cv.VideoCapture(video_path)\n",
    "    while(cap.isOpened()):\n",
    "        _, frame = cap.read()\n",
    "        frame = lanesDetection(frame)\n",
    "        cv.imshow('Lanes Detection', frame)\n",
    "        if cv.waitKey(1) & 0xFF == ord('q'):\n",
    "            break\n",
    "\n",
    "    cap.release()\n",
    "    cv.destroyAllWindows()"
   ]
  },
  {
   "cell_type": "code",
   "execution_count": 6,
   "metadata": {},
   "outputs": [
    {
     "name": "stderr",
     "output_type": "stream",
     "text": [
      "Warning: Ignoring XDG_SESSION_TYPE=wayland on Gnome. Use QT_QPA_PLATFORM=wayland to run on Wayland anyway.\n"
     ]
    }
   ],
   "source": [
    "videoLanes(\"../data/exam/project_video.mp4\")"
   ]
  }
 ],
 "metadata": {
  "kernelspec": {
   "display_name": "Python 3.10.8 ('.venv': poetry)",
   "language": "python",
   "name": "python3"
  },
  "language_info": {
   "codemirror_mode": {
    "name": "ipython",
    "version": 3
   },
   "file_extension": ".py",
   "mimetype": "text/x-python",
   "name": "python",
   "nbconvert_exporter": "python",
   "pygments_lexer": "ipython3",
   "version": "3.10.8 (main, Nov 13 2022, 15:32:50) [GCC 12.2.1 20220819 (Red Hat 12.2.1-2)]"
  },
  "orig_nbformat": 4,
  "vscode": {
   "interpreter": {
    "hash": "d8b4129ff422d39aff30a7de71a6683e0c700eb5d1948e2b3188c30182b34fef"
   }
  }
 },
 "nbformat": 4,
 "nbformat_minor": 2
}
